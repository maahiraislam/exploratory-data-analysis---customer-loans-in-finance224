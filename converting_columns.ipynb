{
 "cells": [
  {
   "cell_type": "code",
   "execution_count": 3,
   "metadata": {},
   "outputs": [],
   "source": [
    "from data_transform_classes import DataTransforming\n",
    "import pandas as pd\n",
    "file_path = 'loan_payments2.csv'\n",
    "df = pd.read_csv(file_path)"
   ]
  },
  {
   "cell_type": "code",
   "execution_count": 4,
   "metadata": {},
   "outputs": [],
   "source": [
    "#%run DataTransform.py (Magic Method)"
   ]
  },
  {
   "cell_type": "markdown",
   "metadata": {},
   "source": [
    "# **Converting Columns to the Correct Format**"
   ]
  },
  {
   "cell_type": "markdown",
   "metadata": {},
   "source": [
    "## *Converting to Numeric:*"
   ]
  },
  {
   "cell_type": "code",
   "execution_count": 5,
   "metadata": {},
   "outputs": [
    {
     "name": "stdout",
     "output_type": "stream",
     "text": [
      "0        36 months\n",
      "1        36 months\n",
      "2        36 months\n",
      "3        36 months\n",
      "4        36 months\n",
      "           ...    \n",
      "54226    36 months\n",
      "54227    36 months\n",
      "54228    36 months\n",
      "54229    36 months\n",
      "54230    36 months\n",
      "Name: term, Length: 54231, dtype: object\n"
     ]
    }
   ],
   "source": [
    "print(df['term'])"
   ]
  },
  {
   "cell_type": "code",
   "execution_count": 6,
   "metadata": {},
   "outputs": [
    {
     "name": "stdout",
     "output_type": "stream",
     "text": [
      "\n",
      "DataFrame after conversion:\n",
      "0        36.0\n",
      "1        36.0\n",
      "2        36.0\n",
      "3        36.0\n",
      "4        36.0\n",
      "         ... \n",
      "54226    36.0\n",
      "54227    36.0\n",
      "54228    36.0\n",
      "54229    36.0\n",
      "54230    36.0\n",
      "Name: term, Length: 54231, dtype: float64\n"
     ]
    }
   ],
   "source": [
    "df['term'] = df['term'].str.replace('months', '')\n",
    "dt = DataTransforming.to_numeric(df,'term')\n",
    "print(\"\\nDataFrame after conversion:\")\n",
    "print(df['term'])"
   ]
  },
  {
   "cell_type": "markdown",
   "metadata": {},
   "source": [
    "## *Converting to Category*:"
   ]
  },
  {
   "cell_type": "code",
   "execution_count": 7,
   "metadata": {},
   "outputs": [
    {
     "name": "stdout",
     "output_type": "stream",
     "text": [
      "      grade sub_grade verification_status  \\\n",
      "0         A        A4        Not Verified   \n",
      "1         A        A3        Not Verified   \n",
      "2         A        A4     Source Verified   \n",
      "3         C        C4     Source Verified   \n",
      "4         A        A1            Verified   \n",
      "...     ...       ...                 ...   \n",
      "54226     B        B2        Not Verified   \n",
      "54227     C        C2        Not Verified   \n",
      "54228     A        A2        Not Verified   \n",
      "54229     A        A2        Not Verified   \n",
      "54230     C        C5        Not Verified   \n",
      "\n",
      "                                             loan_status             purpose  \\\n",
      "0                                                Current         credit_card   \n",
      "1                                                Current         credit_card   \n",
      "2                                             Fully Paid         credit_card   \n",
      "3                                             Fully Paid  debt_consolidation   \n",
      "4                                                Current  debt_consolidation   \n",
      "...                                                  ...                 ...   \n",
      "54226                                         Fully Paid               other   \n",
      "54227                                         Fully Paid               other   \n",
      "54228  Does not meet the credit policy. Status:Fully ...  debt_consolidation   \n",
      "54229                                         Fully Paid               house   \n",
      "54230  Does not meet the credit policy. Status:Charge...               other   \n",
      "\n",
      "      employment_length home_ownership  \n",
      "0               5 years       MORTGAGE  \n",
      "1               9 years           RENT  \n",
      "2               8 years       MORTGAGE  \n",
      "3                1 year           RENT  \n",
      "4             10+ years       MORTGAGE  \n",
      "...                 ...            ...  \n",
      "54226            1 year       MORTGAGE  \n",
      "54227          < 1 year           RENT  \n",
      "54228         10+ years       MORTGAGE  \n",
      "54229           4 years           RENT  \n",
      "54230           9 years       MORTGAGE  \n",
      "\n",
      "[54231 rows x 7 columns]\n"
     ]
    }
   ],
   "source": [
    "print(df[['grade','sub_grade','verification_status','loan_status','purpose','employment_length','home_ownership']])"
   ]
  },
  {
   "cell_type": "code",
   "execution_count": 8,
   "metadata": {},
   "outputs": [
    {
     "name": "stdout",
     "output_type": "stream",
     "text": [
      "\n",
      "DataFrame after conversion:\n",
      "0        1\n",
      "1        1\n",
      "2        1\n",
      "3        3\n",
      "4        1\n",
      "        ..\n",
      "54226    2\n",
      "54227    3\n",
      "54228    1\n",
      "54229    1\n",
      "54230    3\n",
      "Name: grade, Length: 54231, dtype: int8\n"
     ]
    }
   ],
   "source": [
    "dt = DataTransforming.to_category_codes(df,'grade')\n",
    "print(\"\\nDataFrame after conversion:\")\n",
    "print(df['grade'])"
   ]
  },
  {
   "cell_type": "code",
   "execution_count": 9,
   "metadata": {},
   "outputs": [
    {
     "name": "stdout",
     "output_type": "stream",
     "text": [
      "\n",
      "DataFrame after conversion:\n",
      "0        A4\n",
      "1        A3\n",
      "2        A4\n",
      "3        C4\n",
      "4        A1\n",
      "         ..\n",
      "54226    B2\n",
      "54227    C2\n",
      "54228    A2\n",
      "54229    A2\n",
      "54230    C5\n",
      "Name: sub_grade, Length: 54231, dtype: category\n",
      "Categories (35, object): ['A1', 'A2', 'A3', 'A4', ..., 'G2', 'G3', 'G4', 'G5']\n"
     ]
    }
   ],
   "source": [
    "dt = DataTransforming.to_category(df,'sub_grade')\n",
    "print(\"\\nDataFrame after conversion:\")\n",
    "print(df['sub_grade'])"
   ]
  },
  {
   "cell_type": "code",
   "execution_count": 10,
   "metadata": {},
   "outputs": [
    {
     "name": "stdout",
     "output_type": "stream",
     "text": [
      "\n",
      "DataFrame after conversion:\n",
      "0           Not Verified\n",
      "1           Not Verified\n",
      "2        Source Verified\n",
      "3        Source Verified\n",
      "4               Verified\n",
      "              ...       \n",
      "54226       Not Verified\n",
      "54227       Not Verified\n",
      "54228       Not Verified\n",
      "54229       Not Verified\n",
      "54230       Not Verified\n",
      "Name: verification_status, Length: 54231, dtype: category\n",
      "Categories (3, object): ['Not Verified', 'Source Verified', 'Verified']\n"
     ]
    }
   ],
   "source": [
    "dt = DataTransforming.to_category(df,'verification_status')\n",
    "print(\"\\nDataFrame after conversion:\")\n",
    "print(df['verification_status'])"
   ]
  },
  {
   "cell_type": "code",
   "execution_count": 11,
   "metadata": {},
   "outputs": [
    {
     "name": "stdout",
     "output_type": "stream",
     "text": [
      "\n",
      "DataFrame after conversion:\n",
      "0                                                  Current\n",
      "1                                                  Current\n",
      "2                                               Fully Paid\n",
      "3                                               Fully Paid\n",
      "4                                                  Current\n",
      "                               ...                        \n",
      "54226                                           Fully Paid\n",
      "54227                                           Fully Paid\n",
      "54228    Does not meet the credit policy. Status:Fully ...\n",
      "54229                                           Fully Paid\n",
      "54230    Does not meet the credit policy. Status:Charge...\n",
      "Name: loan_status, Length: 54231, dtype: category\n",
      "Categories (9, object): ['Charged Off', 'Current', 'Default', 'Does not meet the credit policy. Status:Charg..., ..., 'Fully Paid', 'In Grace Period', 'Late (16-30 days)', 'Late (31-120 days)']\n"
     ]
    }
   ],
   "source": [
    "dt = DataTransforming.to_category(df,'loan_status')\n",
    "print(\"\\nDataFrame after conversion:\")\n",
    "print(df['loan_status'])"
   ]
  },
  {
   "cell_type": "code",
   "execution_count": 12,
   "metadata": {},
   "outputs": [
    {
     "name": "stdout",
     "output_type": "stream",
     "text": [
      "\n",
      "DataFrame after conversion:\n",
      "0               credit_card\n",
      "1               credit_card\n",
      "2               credit_card\n",
      "3        debt_consolidation\n",
      "4        debt_consolidation\n",
      "                ...        \n",
      "54226                 other\n",
      "54227                 other\n",
      "54228    debt_consolidation\n",
      "54229                 house\n",
      "54230                 other\n",
      "Name: purpose, Length: 54231, dtype: category\n",
      "Categories (14, object): ['car', 'credit_card', 'debt_consolidation', 'educational', ..., 'renewable_energy', 'small_business', 'vacation', 'wedding']\n"
     ]
    }
   ],
   "source": [
    "dt = DataTransforming.to_category(df,'purpose')\n",
    "print(\"\\nDataFrame after conversion:\")\n",
    "print(df['purpose'])"
   ]
  },
  {
   "cell_type": "code",
   "execution_count": 13,
   "metadata": {},
   "outputs": [
    {
     "name": "stdout",
     "output_type": "stream",
     "text": [
      "\n",
      "DataFrame after conversion:\n",
      "0        MORTGAGE\n",
      "1            RENT\n",
      "2        MORTGAGE\n",
      "3            RENT\n",
      "4        MORTGAGE\n",
      "           ...   \n",
      "54226    MORTGAGE\n",
      "54227        RENT\n",
      "54228    MORTGAGE\n",
      "54229        RENT\n",
      "54230    MORTGAGE\n",
      "Name: home_ownership, Length: 54231, dtype: category\n",
      "Categories (5, object): ['MORTGAGE', 'NONE', 'OTHER', 'OWN', 'RENT']\n"
     ]
    }
   ],
   "source": [
    "dt = DataTransforming.to_category(df,'home_ownership')\n",
    "print(\"\\nDataFrame after conversion:\")\n",
    "print(df['home_ownership'])"
   ]
  },
  {
   "cell_type": "code",
   "execution_count": 14,
   "metadata": {},
   "outputs": [
    {
     "name": "stdout",
     "output_type": "stream",
     "text": [
      "\n",
      "DataFrame after conversion:\n",
      "0          5 years\n",
      "1          9 years\n",
      "2          8 years\n",
      "3           1 year\n",
      "4        10+ years\n",
      "           ...    \n",
      "54226       1 year\n",
      "54227     < 1 year\n",
      "54228    10+ years\n",
      "54229      4 years\n",
      "54230      9 years\n",
      "Name: employment_length, Length: 54231, dtype: category\n",
      "Categories (11, object): ['1 year', '10+ years', '2 years', '3 years', ..., '7 years', '8 years', '9 years', '< 1 year']\n"
     ]
    }
   ],
   "source": [
    "dt = DataTransforming.to_category(df,'employment_length')\n",
    "print(\"\\nDataFrame after conversion:\")\n",
    "print(df['employment_length'])"
   ]
  },
  {
   "cell_type": "markdown",
   "metadata": {},
   "source": [
    "## *Converting to DateTime:*"
   ]
  },
  {
   "cell_type": "code",
   "execution_count": 15,
   "metadata": {},
   "outputs": [
    {
     "name": "stdout",
     "output_type": "stream",
     "text": [
      "      issue_date earliest_credit_line last_payment_date next_payment_date  \\\n",
      "0       Jan-2021             Oct-1987          Jan-2022          Feb-2022   \n",
      "1       Jan-2021             Sep-2001          Jan-2022          Feb-2022   \n",
      "2       Jan-2021             Sep-1998          Oct-2021               NaN   \n",
      "3       Jan-2021             Jun-2008          Jun-2021               NaN   \n",
      "4       Jan-2021             Apr-2002          Jan-2022          Feb-2022   \n",
      "...          ...                  ...               ...               ...   \n",
      "54226   Jul-2013             Apr-2003          Jul-2016               NaN   \n",
      "54227   Oct-2013             Jan-1999          Oct-2016               NaN   \n",
      "54228   Aug-2013             Feb-1984          Sep-2016          Sep-2016   \n",
      "54229   Aug-2013             Mar-1995          Mar-2014               NaN   \n",
      "54230   Jul-2013             Oct-1998          Mar-2014          Dec-2014   \n",
      "\n",
      "      last_credit_pull_date  \n",
      "0                  Jan-2022  \n",
      "1                  Jan-2022  \n",
      "2                  Oct-2021  \n",
      "3                  Jun-2021  \n",
      "4                  Jan-2022  \n",
      "...                     ...  \n",
      "54226              Jul-2016  \n",
      "54227              Sep-2016  \n",
      "54228              May-2013  \n",
      "54229              May-2013  \n",
      "54230              Jan-2015  \n",
      "\n",
      "[54231 rows x 5 columns]\n"
     ]
    }
   ],
   "source": [
    "print(df[['issue_date','earliest_credit_line','last_payment_date','next_payment_date','last_credit_pull_date']])"
   ]
  },
  {
   "cell_type": "code",
   "execution_count": 16,
   "metadata": {},
   "outputs": [
    {
     "name": "stdout",
     "output_type": "stream",
     "text": [
      "\n",
      "DataFrame after conversion:\n",
      "0       2021-01-01\n",
      "1       2021-01-01\n",
      "2       2021-01-01\n",
      "3       2021-01-01\n",
      "4       2021-01-01\n",
      "           ...    \n",
      "54226   2013-07-01\n",
      "54227   2013-10-01\n",
      "54228   2013-08-01\n",
      "54229   2013-08-01\n",
      "54230   2013-07-01\n",
      "Name: issue_date, Length: 54231, dtype: datetime64[ns]\n"
     ]
    }
   ],
   "source": [
    "dt = DataTransforming.to_datetime(df,'issue_date')\n",
    "print(\"\\nDataFrame after conversion:\")\n",
    "print(df['issue_date'])"
   ]
  },
  {
   "cell_type": "code",
   "execution_count": 17,
   "metadata": {},
   "outputs": [
    {
     "name": "stdout",
     "output_type": "stream",
     "text": [
      "\n",
      "DataFrame after conversion:\n",
      "0       1987-10-01\n",
      "1       2001-09-01\n",
      "2       1998-09-01\n",
      "3       2008-06-01\n",
      "4       2002-04-01\n",
      "           ...    \n",
      "54226   2003-04-01\n",
      "54227   1999-01-01\n",
      "54228   1984-02-01\n",
      "54229   1995-03-01\n",
      "54230   1998-10-01\n",
      "Name: earliest_credit_line, Length: 54231, dtype: datetime64[ns]\n"
     ]
    }
   ],
   "source": [
    "dt = DataTransforming.to_datetime(df,'earliest_credit_line')\n",
    "print(\"\\nDataFrame after conversion:\")\n",
    "print(df['earliest_credit_line'])"
   ]
  },
  {
   "cell_type": "code",
   "execution_count": 18,
   "metadata": {},
   "outputs": [
    {
     "name": "stdout",
     "output_type": "stream",
     "text": [
      "\n",
      "DataFrame after conversion:\n",
      "0       2022-01-01\n",
      "1       2022-01-01\n",
      "2       2021-10-01\n",
      "3       2021-06-01\n",
      "4       2022-01-01\n",
      "           ...    \n",
      "54226   2016-07-01\n",
      "54227   2016-10-01\n",
      "54228   2016-09-01\n",
      "54229   2014-03-01\n",
      "54230   2014-03-01\n",
      "Name: last_payment_date, Length: 54231, dtype: datetime64[ns]\n"
     ]
    }
   ],
   "source": [
    "dt = DataTransforming.to_datetime(df,'last_payment_date')\n",
    "print(\"\\nDataFrame after conversion:\")\n",
    "print(df['last_payment_date'])"
   ]
  },
  {
   "cell_type": "code",
   "execution_count": 19,
   "metadata": {},
   "outputs": [
    {
     "name": "stdout",
     "output_type": "stream",
     "text": [
      "\n",
      "DataFrame after conversion:\n",
      "0       2022-02-01\n",
      "1       2022-02-01\n",
      "2              NaT\n",
      "3              NaT\n",
      "4       2022-02-01\n",
      "           ...    \n",
      "54226          NaT\n",
      "54227          NaT\n",
      "54228   2016-09-01\n",
      "54229          NaT\n",
      "54230   2014-12-01\n",
      "Name: next_payment_date, Length: 54231, dtype: datetime64[ns]\n"
     ]
    }
   ],
   "source": [
    "dt = DataTransforming.to_datetime(df,'next_payment_date')\n",
    "print(\"\\nDataFrame after conversion:\")\n",
    "print(df['next_payment_date'])"
   ]
  },
  {
   "cell_type": "code",
   "execution_count": 20,
   "metadata": {},
   "outputs": [
    {
     "name": "stdout",
     "output_type": "stream",
     "text": [
      "\n",
      "DataFrame after conversion:\n",
      "0       2022-01-01\n",
      "1       2022-01-01\n",
      "2       2021-10-01\n",
      "3       2021-06-01\n",
      "4       2022-01-01\n",
      "           ...    \n",
      "54226   2016-07-01\n",
      "54227   2016-09-01\n",
      "54228   2013-05-01\n",
      "54229   2013-05-01\n",
      "54230   2015-01-01\n",
      "Name: last_credit_pull_date, Length: 54231, dtype: datetime64[ns]\n"
     ]
    }
   ],
   "source": [
    "dt = DataTransforming.to_datetime(df,'last_credit_pull_date')\n",
    "print(\"\\nDataFrame after conversion:\")\n",
    "print(df['last_credit_pull_date'])"
   ]
  },
  {
   "cell_type": "code",
   "execution_count": 21,
   "metadata": {},
   "outputs": [
    {
     "name": "stdout",
     "output_type": "stream",
     "text": [
      "\n",
      "DataFrame after conversion:\n",
      "0        No\n",
      "1        No\n",
      "2        No\n",
      "3        No\n",
      "4        No\n",
      "         ..\n",
      "54226    No\n",
      "54227    No\n",
      "54228    No\n",
      "54229    No\n",
      "54230    No\n",
      "Name: payment_plan, Length: 54231, dtype: object\n"
     ]
    }
   ],
   "source": [
    "df['payment_plan'] = df['payment_plan'].str.replace('y', 'Yes')\n",
    "df['payment_plan'] = df['payment_plan'].str.replace('n', 'No')\n",
    "dt = DataTransforming.to_string(df,'last_credit_pull_date')\n",
    "print(\"\\nDataFrame after conversion:\")\n",
    "print(df['payment_plan'])"
   ]
  },
  {
   "cell_type": "markdown",
   "metadata": {},
   "source": [
    "## *Saving to a new csv file:*"
   ]
  },
  {
   "cell_type": "code",
   "execution_count": 22,
   "metadata": {},
   "outputs": [],
   "source": [
    "df.to_csv('altered_loan_payments2.csv', index=False)"
   ]
  }
 ],
 "metadata": {
  "kernelspec": {
   "display_name": "EDA_env",
   "language": "python",
   "name": "python3"
  },
  "language_info": {
   "codemirror_mode": {
    "name": "ipython",
    "version": 3
   },
   "file_extension": ".py",
   "mimetype": "text/x-python",
   "name": "python",
   "nbconvert_exporter": "python",
   "pygments_lexer": "ipython3",
   "version": "3.11.5"
  }
 },
 "nbformat": 4,
 "nbformat_minor": 2
}
